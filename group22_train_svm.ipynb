{
 "cells": [
  {
   "cell_type": "markdown",
   "metadata": {},
   "source": [
    "# Initialize the notebook"
   ]
  },
  {
   "cell_type": "code",
   "execution_count": 2,
   "metadata": {},
   "outputs": [],
   "source": [
    "import numpy as np\n",
    "from IPython.display import display,HTML\n",
    "import joblib\n",
    "\n",
    "np.set_printoptions(suppress=True)\n",
    "\n",
    "from IPython.display import Markdown, display\n",
    "def printmd(string):\n",
    "    display(Markdown(string))"
   ]
  },
  {
   "cell_type": "markdown",
   "metadata": {},
   "source": [
    "# Import packages"
   ]
  },
  {
   "cell_type": "code",
   "execution_count": 3,
   "metadata": {},
   "outputs": [],
   "source": [
    "from sklearn import svm\n",
    "from sklearn.metrics import accuracy_score\n",
    "import math\n",
    "import matplotlib.pyplot as plt\n",
    "import pandas as pn"
   ]
  },
  {
   "cell_type": "markdown",
   "metadata": {},
   "source": [
    "# Load datasets (training dataset and cross-validation dataset)"
   ]
  },
  {
   "cell_type": "code",
   "execution_count": 4,
   "metadata": {},
   "outputs": [],
   "source": [
    "train_data = np.genfromtxt('group22_train.dat',delimiter=\",\", dtype=\"int32\")\n",
    "cv_data = np.genfromtxt('group22_cv.dat',delimiter=\",\", dtype=\"int32\")"
   ]
  },
  {
   "cell_type": "code",
   "execution_count": 5,
   "metadata": {},
   "outputs": [],
   "source": [
    "#Set m and n\n",
    "m_train = train_data.shape[0]\n",
    "n_train = train_data.shape[1]-1\n",
    "\n",
    "#Set X and y\n",
    "X_train = train_data[:,0:n_train]\n",
    "y_train = train_data[:,n_train].reshape(m_train,1)\n",
    "\n",
    "#Scale data\n",
    "X_train = X_train / 255"
   ]
  },
  {
   "cell_type": "code",
   "execution_count": 6,
   "metadata": {},
   "outputs": [],
   "source": [
    "m_cv = cv_data.shape[0]\n",
    "n_cv = cv_data.shape[1]-1\n",
    "\n",
    "X_cv = cv_data[:,0:n_cv]\n",
    "y_cv = cv_data[:,n_cv].reshape(m_cv,1)\n",
    "\n",
    "#Scale data\n",
    "X_cv = X_cv / 255"
   ]
  },
  {
   "cell_type": "markdown",
   "metadata": {},
   "source": [
    "# Perform SVM optimization"
   ]
  },
  {
   "cell_type": "code",
   "execution_count": 8,
   "metadata": {
    "scrolled": true
   },
   "outputs": [],
   "source": [
    "default_C = [ math.pow(2,-3), math.pow(2,-1), 2,math.pow(2,3), math.pow(2,5), math.pow(2,7), math.pow(2,9), math.pow(2,11)]\n",
    "default_gamma = [0.0001,0.0002,0.0003,0.0004,0.0005,0.0006,0.0007,0.000008]\n",
    "\n",
    "def group22_train_svc( C_=default_C,gamma_=default_gamma  ):\n",
    "    array = []\n",
    "    \n",
    "    for i in range(len(C_)):\n",
    "        for j in range(len(gamma_)):\n",
    "        \n",
    "            #train classifier using train data\n",
    "            classifier = svm.SVC(kernel='rbf',C=C_[i],gamma=gamma_[j]).fit( X_train, np.ravel(y_train) )\n",
    "\n",
    "            #Predict using the classifier\n",
    "            y_pred = classifier.predict(X_cv) \n",
    "            \n",
    "            array.append( [ accuracy_score(y_cv,y_pred)*100, classifier] )\n",
    "            \n",
    "    return array\n",
    "\n",
    "optimization_array = group22_train_svc(default_C,default_gamma)"
   ]
  },
  {
   "cell_type": "code",
   "execution_count": 13,
   "metadata": {},
   "outputs": [],
   "source": [
    "accuracy_array = []\n",
    "model_array = []\n",
    "\n",
    "for i in range(len(optimization_array)):\n",
    "    accuracy_array.append( optimization_array[i][0] )\n",
    "    model_array.append( optimization_array[i][1])"
   ]
  },
  {
   "cell_type": "markdown",
   "metadata": {},
   "source": [
    "# write optimization values to a file (svm.conf)"
   ]
  },
  {
   "cell_type": "code",
   "execution_count": 19,
   "metadata": {},
   "outputs": [
    {
     "data": {
      "text/plain": [
       "['SVM.pkl']"
      ]
     },
     "execution_count": 19,
     "metadata": {},
     "output_type": "execute_result"
    }
   ],
   "source": [
    "classifier =  model_array [accuracy_array.index( max(accuracy_array))]\n",
    "\n",
    "joblib_file = \"SVM.pkl\"  \n",
    "joblib.dump(classifier, joblib_file)"
   ]
  }
 ],
 "metadata": {
  "kernelspec": {
   "display_name": "Python 3",
   "language": "python",
   "name": "python3"
  },
  "language_info": {
   "codemirror_mode": {
    "name": "ipython",
    "version": 3
   },
   "file_extension": ".py",
   "mimetype": "text/x-python",
   "name": "python",
   "nbconvert_exporter": "python",
   "pygments_lexer": "ipython3",
   "version": "3.7.4"
  }
 },
 "nbformat": 4,
 "nbformat_minor": 2
}
