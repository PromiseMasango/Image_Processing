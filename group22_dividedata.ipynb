{
 "cells": [
  {
   "cell_type": "markdown",
   "metadata": {},
   "source": [
    "# CSC311 Machine learning project : Image Classification\n"
   ]
  },
  {
   "cell_type": "markdown",
   "metadata": {},
   "source": [
    "## Set up notebook"
   ]
  },
  {
   "cell_type": "code",
   "execution_count": 1,
   "metadata": {},
   "outputs": [],
   "source": [
    "import numpy as np\n",
    "from IPython.display import display,HTML\n",
    "\n",
    "np.set_printoptions(suppress=True)\n",
    "\n",
    "from IPython.display import Markdown, display\n",
    "def printmd(string):\n",
    "    display(Markdown(string))\n",
    "    \n",
    "#import packages\n",
    "from sklearn.model_selection import train_test_split"
   ]
  },
  {
   "cell_type": "markdown",
   "metadata": {},
   "source": [
    "## Load data set"
   ]
  },
  {
   "cell_type": "code",
   "execution_count": 3,
   "metadata": {},
   "outputs": [],
   "source": [
    "dataset = np.genfromtxt('hsdata.csv',delimiter=\",\", dtype=\"int32\")"
   ]
  },
  {
   "cell_type": "markdown",
   "metadata": {},
   "source": [
    "## Set up dataset"
   ]
  },
  {
   "cell_type": "code",
   "execution_count": 5,
   "metadata": {},
   "outputs": [],
   "source": [
    "number_of_images = dataset.shape[0]\n",
    "number_of_features = dataset.shape[1]-1\n",
    "\n",
    "X = dataset[:,0:number_of_features]\n",
    "y = dataset[:,number_of_features].reshape(number_of_images,1)"
   ]
  },
  {
   "cell_type": "markdown",
   "metadata": {},
   "source": [
    "## Split original dataset into (training dataset, cross-validation(CV) dataset and testing dataset)"
   ]
  },
  {
   "cell_type": "code",
   "execution_count": 7,
   "metadata": {},
   "outputs": [],
   "source": [
    "# split original dataset to (training dataset, testing dataset)\n",
    "X_train, X_test, y_train, y_test = train_test_split(X,y,train_size=0.5,stratify=y)\n",
    "\n",
    "# split testing dataset into (cross-validation dataset, testing dataset)\n",
    "X_cv, X_finaltest, y_cv, y_finaltest = train_test_split(X_test,y_test,train_size=0.5,stratify=y_test)\n",
    "\n",
    "traindata = np.concatenate([X_train,y_train], axis = 1)\n",
    "testdata = np.concatenate([X_finaltest,y_finaltest], axis = 1)\n",
    "cvdata = np.concatenate([X_cv,y_cv], axis = 1)\n"
   ]
  },
  {
   "cell_type": "markdown",
   "metadata": {},
   "source": [
    "## Save new datasets into disk"
   ]
  },
  {
   "cell_type": "code",
   "execution_count": 8,
   "metadata": {},
   "outputs": [],
   "source": [
    "np.savetxt(\"group22_train.dat\", traindata, delimiter=',',fmt='%d')\n",
    "np.savetxt(\"group22_test.dat\", testdata, delimiter=',',fmt='%d')\n",
    "np.savetxt(\"group22_cv.dat\", cvdata, delimiter=',',fmt='%d')"
   ]
  }
 ],
 "metadata": {
  "kernelspec": {
   "display_name": "Python 3",
   "language": "python",
   "name": "python3"
  },
  "language_info": {
   "codemirror_mode": {
    "name": "ipython",
    "version": 3
   },
   "file_extension": ".py",
   "mimetype": "text/x-python",
   "name": "python",
   "nbconvert_exporter": "python",
   "pygments_lexer": "ipython3",
   "version": "3.7.4"
  }
 },
 "nbformat": 4,
 "nbformat_minor": 2
}
