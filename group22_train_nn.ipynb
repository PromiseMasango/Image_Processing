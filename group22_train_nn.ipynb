{
 "cells": [
  {
   "cell_type": "markdown",
   "metadata": {},
   "source": [
    "# Initialize notebook"
   ]
  },
  {
   "cell_type": "code",
   "execution_count": null,
   "metadata": {},
   "outputs": [],
   "source": [
    "import numpy as np\n",
    "from IPython.display import display,HTML\n",
    "import joblib\n",
    "\n",
    "np.set_printoptions(suppress=True)\n",
    "\n",
    "from IPython.display import Markdown, display\n",
    "def printmd(string):\n",
    "    display(Markdown(string))"
   ]
  },
  {
   "cell_type": "markdown",
   "metadata": {},
   "source": [
    "# Import packages"
   ]
  },
  {
   "cell_type": "code",
   "execution_count": 3,
   "metadata": {},
   "outputs": [],
   "source": [
    "from sklearn.metrics import accuracy_score\n",
    "import matplotlib.pyplot as plt\n",
    "from sklearn.neural_network import MLPClassifier\n",
    "import pandas as pn"
   ]
  },
  {
   "cell_type": "markdown",
   "metadata": {},
   "source": [
    "# Load dataset ( training dataset and cross-validation dataset)"
   ]
  },
  {
   "cell_type": "code",
   "execution_count": 4,
   "metadata": {},
   "outputs": [],
   "source": [
    "train_data = np.genfromtxt('group22_train.dat',delimiter=\",\", dtype=\"int32\")\n",
    "cv_data = np.genfromtxt('group22_cv.dat',delimiter=\",\", dtype=\"int32\")"
   ]
  },
  {
   "cell_type": "code",
   "execution_count": 5,
   "metadata": {},
   "outputs": [],
   "source": [
    "# training data\n",
    "#Set m and n\n",
    "m_train = train_data.shape[0]\n",
    "n_train = train_data.shape[1]-1\n",
    "\n",
    "#Set X and y\n",
    "X_train = train_data[:,0:n_train]\n",
    "y_train = train_data[:,n_train].reshape(m_train,1)\n",
    "\n",
    "#Scale data\n",
    "X_train = X_train / 255\n",
    "\n",
    "#cross-validation data\n",
    "m_cv = cv_data.shape[0]\n",
    "n_cv = cv_data.shape[1]-1\n",
    "\n",
    "X_cv = cv_data[:,0:n_cv]\n",
    "y_cv = cv_data[:,n_cv].reshape(m_cv,1)\n",
    "\n",
    "#Scale data\n",
    "X_cv = X_cv / 255"
   ]
  },
  {
   "cell_type": "markdown",
   "metadata": {},
   "source": [
    "# Setting the parameters."
   ]
  },
  {
   "cell_type": "code",
   "execution_count": 7,
   "metadata": {},
   "outputs": [],
   "source": [
    "params = [{'solver': 'sgd','hidden_layer_sizes':(5,), 'alpha':0.01},\n",
    "          {'solver': 'sgd','hidden_layer_sizes':(10,), 'alpha':0.01},\n",
    "          {'solver': 'sgd','hidden_layer_sizes':(15,), 'alpha':0.01},\n",
    "          {'solver': 'sgd','hidden_layer_sizes':(40,), 'alpha':0.01},\n",
    "          {'solver': 'sgd','hidden_layer_sizes':(45,), 'alpha':0.01},\n",
    "          {'solver': 'sgd','hidden_layer_sizes':(50,), 'alpha':0.01},\n",
    "          {'solver': 'sgd','hidden_layer_sizes':(35,), 'alpha':0.01},]\n",
    "\n",
    "labels = [\"Hidden_layer_5\", \"Hidden_layer_10\",\"Hidden_layer_15\",\"Hidden_layer_40\", \"Hidden_layer_45\",\n",
    "          \"Hidden_layer_50\", \"Hidden_layer_35\"]\n",
    "\n",
    "plot_args = [{'c': 'red', 'linestyle': '-'},\n",
    "             {'c': 'green', 'linestyle': '-'},\n",
    "             {'c': 'blue', 'linestyle': '-'},\n",
    "             {'c': 'brown', 'linestyle': '--'},\n",
    "             {'c': 'orange', 'linestyle': '--'},\n",
    "             {'c': 'yellow', 'linestyle': '--'},\n",
    "             {'c': 'black', 'linestyle': '-'}]"
   ]
  },
  {
   "cell_type": "code",
   "execution_count": null,
   "metadata": {
    "scrolled": true
   },
   "outputs": [],
   "source": [
    "def classify(X, y, X_cv, y_cv):\n",
    "    list_classifier = []\n",
    "    \n",
    "    for label, param in zip(labels, params):\n",
    "        classifier = MLPClassifier(verbose=0,max_iter=50000, **param).fit(X, np.ravel(y))\n",
    "        ypred = classifier.predict(X_cv)\n",
    "        \n",
    "        list_classifier.append( [accuracy_score(y_cv, ypred)*100, classifier] )\n",
    "\n",
    "        \n",
    "    return list_classifier\n",
    "    \n",
    "optimization_array = classify(X_train, y_train,X_cv,y_cv)"
   ]
  },
  {
   "cell_type": "code",
   "execution_count": 10,
   "metadata": {},
   "outputs": [],
   "source": [
    "accuracy_array = []\n",
    "model_array = []\n",
    "\n",
    "for index in range(len(optimization_array)):\n",
    "    accuracy_array.append( optimization_array[index][0])\n",
    "    model_array.append( optimization_array[index][1])"
   ]
  },
  {
   "cell_type": "markdown",
   "metadata": {},
   "source": [
    "## Save trained classifier to disk"
   ]
  },
  {
   "cell_type": "code",
   "execution_count": 14,
   "metadata": {},
   "outputs": [
    {
     "data": {
      "text/plain": [
       "['NN.pkl']"
      ]
     },
     "execution_count": 14,
     "metadata": {},
     "output_type": "execute_result"
    }
   ],
   "source": [
    "classifier = model_array[accuracy_array.index(max(accuracy_array)  )]\n",
    "joblib_file = \"NN.pkl\"  \n",
    "joblib.dump(classifier, joblib_file)"
   ]
  }
 ],
 "metadata": {
  "kernelspec": {
   "display_name": "Python 3",
   "language": "python",
   "name": "python3"
  },
  "language_info": {
   "codemirror_mode": {
    "name": "ipython",
    "version": 3
   },
   "file_extension": ".py",
   "mimetype": "text/x-python",
   "name": "python",
   "nbconvert_exporter": "python",
   "pygments_lexer": "ipython3",
   "version": "3.7.4"
  }
 },
 "nbformat": 4,
 "nbformat_minor": 2
}
