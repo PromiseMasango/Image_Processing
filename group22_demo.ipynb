{
 "cells": [
  {
   "cell_type": "markdown",
   "metadata": {},
   "source": [
    "# Image Classification demo"
   ]
  },
  {
   "cell_type": "markdown",
   "metadata": {},
   "source": [
    "    initialize the notebook"
   ]
  },
  {
   "cell_type": "code",
   "execution_count": null,
   "metadata": {},
   "outputs": [],
   "source": [
    "import numpy as np\n",
    "from IPython.display import display,HTML\n",
    "import joblib\n",
    "\n",
    "np.set_printoptions(suppress=True)\n",
    "\n",
    "from IPython.display import Markdown, display\n",
    "def printmd(string):\n",
    "    display(Markdown(string))"
   ]
  },
  {
   "cell_type": "markdown",
   "metadata": {},
   "source": [
    "## import packages"
   ]
  },
  {
   "cell_type": "code",
   "execution_count": null,
   "metadata": {},
   "outputs": [],
   "source": [
    "import matplotlib.pyplot as plt\n",
    "from sklearn import svm\n",
    "from sklearn.linear_model import LogisticRegression\n",
    "from sklearn.metrics import classification_report\n",
    "from sklearn.neural_network import MLPClassifier\n",
    "import tkinter  \n",
    "import tkinter.filedialog\n",
    "from sklearn.metrics import confusion_matrix\n",
    "\n",
    "#load image classes\n",
    "class_0 = plt.imread(\"class_0.jpg\")\n",
    "class_1 = plt.imread(\"class_1.jpg\")\n",
    "class_2 = plt.imread(\"class_2.jpg\")\n",
    "class_3 = plt.imread(\"class_3.jpg\")\n",
    "class_4 = plt.imread(\"class_4.jpg\")\n",
    "class_5 = plt.imread(\"class_5.jpg\")"
   ]
  },
  {
   "cell_type": "markdown",
   "metadata": {},
   "source": [
    "## load training and testing data"
   ]
  },
  {
   "cell_type": "code",
   "execution_count": null,
   "metadata": {},
   "outputs": [],
   "source": [
    "\n",
    "def call_result():\n",
    "    root.destroy()\n",
    "\n",
    "def load_data():\n",
    "    root = tkinter.Tk()\n",
    "    root.title('TESTING DATA')\n",
    "\n",
    "    filename = tkinter.filedialog.askopenfilename(parent=root,title=\"Choose demo dataset file\")\n",
    "    root.destroy()\n",
    "\n",
    "    test_data = np.genfromtxt(filename,delimiter=\",\", dtype=\"int32\")\n",
    "                              \n",
    "    root = tkinter.Tk()\n",
    "    root.title('PARAMETERS')\n",
    "\n",
    "    param = tkinter.StringVar()\n",
    "   \n",
    "    tkinter.Entry(root, width=7, textvariable=param).grid(column=2, row=1)\n",
    "    tkinter.Label(root, text=\"parameter\").grid(column=1, row=1)\n",
    "\n",
    "\n",
    "    tkinter.Button(root, text=\"run demo\").grid(column=2, row=13)\n",
    "    root.mainloop()                             \n",
    "                              \n",
    "    return test_data, param"
   ]
  },
  {
   "cell_type": "markdown",
   "metadata": {},
   "source": [
    "## set up testing dataset"
   ]
  },
  {
   "cell_type": "code",
   "execution_count": null,
   "metadata": {},
   "outputs": [],
   "source": [
    "def set_up_test(test_data):\n",
    "    m_test = test_data.shape[0]\n",
    "    n_test = test_data.shape[1]-1\n",
    "\n",
    "    X_test = test_data[:,0:n_test]\n",
    "    y_test = test_data[:,n_test].reshape(m_test,1)\n",
    "    X_test = X_test / 255\n",
    "    \n",
    "    return X_test,y_test\n",
    "    "
   ]
  },
  {
   "cell_type": "markdown",
   "metadata": {},
   "source": [
    "Create the functions used in the demo"
   ]
  },
  {
   "cell_type": "code",
   "execution_count": null,
   "metadata": {},
   "outputs": [],
   "source": [
    "def new_X(X_test,param):\n",
    "    images = param.get().split(\",\")\n",
    "    X = []\n",
    "\n",
    "    for i in images:\n",
    "        X.append(X_test[int(i),:  ])\n",
    "    X = np.array(X)\n",
    "    return X,images"
   ]
  },
  {
   "cell_type": "code",
   "execution_count": null,
   "metadata": {},
   "outputs": [],
   "source": [
    "def plot(X,X_recons,images,y,technique):\n",
    "\n",
    "    fig, axes = plt.subplots(len(X)+1,2)\n",
    "    \n",
    "    axes[0,0].set_axis_off()\n",
    "    axes[0,1].set_axis_off()\n",
    "    \n",
    "#    axes[0,0].text(0,0,technique)\n",
    "    \n",
    "    for i in range(len(X)):\n",
    "        for j in range(2):\n",
    "            if j == 0 :\n",
    "                axes[i,j].imshow(X_recons[i])\n",
    "                axes[i,j].set_title(technique +\"\\n predicted image in index \"+str(images[i])+\" with a class prediction of \"+str(y[i]))\n",
    "                axes[i,j].set_axis_off()\n",
    "                \n",
    "            else :\n",
    "                if y[i] == 0 :\n",
    "                    axes[i,j].imshow(class_0)\n",
    "                    axes[i,j].set_title( \"This is what class 0 should look like\")\n",
    "                    axes[i,j].set_axis_off()\n",
    "                    \n",
    "                if y[i] == 1 :\n",
    "                    axes[i,j].imshow(class_1)\n",
    "                    axes[i,j].set_title( \"This is what class 1 should look like\")\n",
    "                    axes[i,j].set_axis_off()\n",
    "                    \n",
    "                if y[i] == 2 :\n",
    "                    axes[i,j].imshow(class_2)\n",
    "                    axes[i,j].set_title( \"This is what class 2 should look like\")\n",
    "                    axes[i,j].set_axis_off()\n",
    "                    \n",
    "                if y[i] == 3 :\n",
    "                    axes[i,j].imshow(class_3)\n",
    "                    axes[i,j].set_title( \"This is what class 3 should look like\")\n",
    "                    axes[i,j].set_axis_off()\n",
    "                    \n",
    "                if y[i] == 4 :\n",
    "                    axes[i,j].imshow(class_4)\n",
    "                    axes[i,j].set_title( \"This is what class 4 should look like\")\n",
    "                    axes[i,j].set_axis_off()\n",
    "                    \n",
    "                if y[i] == 5 :\n",
    "                    axes[i,j].imshow(class_5)\n",
    "                    axes[i,j].set_title( \"This is what class 5 should look like\")\n",
    "                    axes[i,j].set_axis_off()\n",
    "\n",
    "    axes[len(X),0].set_axis_off()\n",
    "    axes[len(X),1].set_axis_off()\n",
    "    \n"
   ]
  },
  {
   "cell_type": "code",
   "execution_count": null,
   "metadata": {},
   "outputs": [],
   "source": []
  },
  {
   "cell_type": "markdown",
   "metadata": {},
   "source": [
    "# SET UP TECHNIQUES"
   ]
  },
  {
   "cell_type": "markdown",
   "metadata": {},
   "source": [
    "    Logistic Regression"
   ]
  },
  {
   "cell_type": "markdown",
   "metadata": {},
   "source": [
    "    read logistic regression optimization values from a file"
   ]
  },
  {
   "cell_type": "code",
   "execution_count": null,
   "metadata": {},
   "outputs": [],
   "source": [
    "def main():\n",
    "    #load data and parameter\n",
    "    test_data, param = load_data()\n",
    "    \n",
    "    #set up data\n",
    "    #X_test,y_test = set_up_data(train_data,test_data )\n",
    "    #X_train, y_train = set_up_train(train_data)\n",
    "    X_test , y_test  = set_up_test(test_data)\n",
    "    \n",
    "    #logistic Regression\n",
    "    joblib_model = joblib.load('logreg.pkl')\n",
    "    ylogpred = joblib_model.predict(X_test)\n",
    "    \n",
    "    #Neural Network\n",
    "    joblib_model = joblib.load('NN.pkl')\n",
    "    ynnpred = joblib_model.predict(X_test)\n",
    "    \n",
    "    #SVM\n",
    "    joblib_model = joblib.load('SVM.pkl')\n",
    "    ysvmpred = joblib_model.predict(X_test)\n",
    "\n",
    "    X,images = new_X(X_test,param)\n",
    "    #ypred = mul_clf.predict(X)\n",
    "    #yn_pred = n_classifier.predict(X)\n",
    "    #ysvm_pred = classifier.predict(X)\n",
    " \n",
    "    #PLOT\n",
    "    plt.rcParams['figure.figsize'] = (25, 25)\n",
    "    plt.rcParams['font.size'] = 25\n",
    "    plt.axis('off')\n",
    "    plt.tight_layout()\n",
    "    \n",
    "    X_recons = X.reshape(X.shape[0],64,64,3)\n",
    " \n",
    "    #plot LG\n",
    "\n",
    "    plot(X,X_recons,images,ylogpred, \"Logistic Regression\")\n",
    "    \n",
    "    #plot NN\n",
    "\n",
    "    plot(X,X_recons,images,ynnpred, \" Neural Network\" )   \n",
    "    \n",
    "    #plot SVM\n",
    "\n",
    "    plot(X,X_recons,images,ysvmpred, \"SVM\" )"
   ]
  },
  {
   "cell_type": "code",
   "execution_count": null,
   "metadata": {},
   "outputs": [],
   "source": [
    "main()"
   ]
  },
  {
   "cell_type": "code",
   "execution_count": null,
   "metadata": {},
   "outputs": [],
   "source": []
  }
 ],
 "metadata": {
  "kernelspec": {
   "display_name": "Python 3",
   "language": "python",
   "name": "python3"
  },
  "language_info": {
   "codemirror_mode": {
    "name": "ipython",
    "version": 3
   },
   "file_extension": ".py",
   "mimetype": "text/x-python",
   "name": "python",
   "nbconvert_exporter": "python",
   "pygments_lexer": "ipython3",
   "version": "3.7.4"
  }
 },
 "nbformat": 4,
 "nbformat_minor": 2
}
