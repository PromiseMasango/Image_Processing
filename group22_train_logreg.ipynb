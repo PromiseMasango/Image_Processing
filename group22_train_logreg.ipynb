{
 "cells": [
  {
   "cell_type": "markdown",
   "metadata": {},
   "source": [
    "# CSC311 Machine Learning Part 1b\n",
    "\n",
    "## Logistic Regression\n",
    "\n"
   ]
  },
  {
   "cell_type": "markdown",
   "metadata": {},
   "source": [
    "## Set up notebook"
   ]
  },
  {
   "cell_type": "code",
   "execution_count": 2,
   "metadata": {},
   "outputs": [],
   "source": [
    "#Import packages\n",
    "import numpy as np\n",
    "import pandas as pn\n",
    "from IPython.display import display,HTML\n",
    "import joblib\n",
    "from sklearn.linear_model import LogisticRegression\n",
    "import sklearn.metrics as sklm\n",
    "import matplotlib\n",
    "import matplotlib.pyplot as plt\n",
    "\n",
    "np.set_printoptions(suppress=True)\n",
    "\n",
    "from IPython.display import Markdown, display\n",
    "def printmd(string):\n",
    "    display(Markdown(string))"
   ]
  },
  {
   "cell_type": "markdown",
   "metadata": {},
   "source": [
    "## Load datasets (training dataset and cross-validation dataset)"
   ]
  },
  {
   "cell_type": "code",
   "execution_count": 3,
   "metadata": {},
   "outputs": [],
   "source": [
    "train_dataset = np.genfromtxt('group22_train.dat',delimiter=\",\", dtype=\"int32\")\n",
    "cv_dataset    = np.genfromtxt('group22_cv.dat',delimiter=\",\", dtype=\"int32\")"
   ]
  },
  {
   "cell_type": "markdown",
   "metadata": {},
   "source": [
    "## set up dataset"
   ]
  },
  {
   "cell_type": "code",
   "execution_count": 6,
   "metadata": {},
   "outputs": [],
   "source": [
    "## training dataset\n",
    "m_train = train_dataset.shape[0]\n",
    "n_train = train_dataset.shape[1]-1\n",
    "\n",
    "X_train = train_dataset[:,0:n_train]\n",
    "y_train = train_dataset[:,n_train].reshape(m_train,1)\n",
    "\n",
    "\n",
    "#Cross-validation dataset\n",
    "\n",
    "m_cv = cv_dataset.shape[0]\n",
    "n_cv = cv_dataset.shape[1]-1\n",
    "\n",
    "X_train_recons = X_train.reshape(m_train,64,64,3) \n",
    "X_cv = cv_dataset[:,0:n_cv]\n",
    "\n",
    "#use this to display view images from the dataset\n",
    "y_cv = cv_dataset[:,n_cv].reshape(m_cv,1)\n"
   ]
  },
  {
   "cell_type": "markdown",
   "metadata": {},
   "source": [
    "## Display few images from the dataset"
   ]
  },
  {
   "cell_type": "code",
   "execution_count": 9,
   "metadata": {},
   "outputs": [
    {
     "data": {
      "image/png": "[encoded data removed]",
      "text/plain": [
       "<Figure size 432x288 with 1 Axes>"
      ]
     },
     "metadata": {
      "needs_background": "light"
     },
     "output_type": "display_data"
    }
   ],
   "source": [
    "indextoshow = 25\n",
    "plt.imshow(X_train_recons[indextoshow])\n",
    "for i in range(3):\n",
    "    plt.imshow( X_train_recons[i] )\n"
   ]
  },
  {
   "cell_type": "markdown",
   "metadata": {},
   "source": [
    "## Scale dataset values to be between (0-1)"
   ]
  },
  {
   "cell_type": "code",
   "execution_count": 11,
   "metadata": {},
   "outputs": [],
   "source": [
    "#training dataset\n",
    "X_train_scaled = X_train / 255\n",
    "X_train_scaled = X_train.astype(float)\n",
    "\n",
    "#cross-validation dataset\n",
    "X_cv_scaled = X_cv / 255\n",
    "X_cv_scaled = X_cv.astype(float)\n"
   ]
  },
  {
   "cell_type": "markdown",
   "metadata": {},
   "source": [
    "## Train a Logistic Regression classifier"
   ]
  },
  {
   "cell_type": "markdown",
   "metadata": {},
   "source": [
    "Setup sklearn and implementing the multiclass logistic regression."
   ]
  },
  {
   "cell_type": "code",
   "execution_count": 19,
   "metadata": {},
   "outputs": [],
   "source": [
    "array = []\n",
    "i = 0.01\n",
    "\n",
    "while i < 1 :\n",
    "    classifier = LogisticRegression(multi_class='auto',solver = 'lbfgs', C = i, max_iter = 5000 )\n",
    "    \n",
    "    classifier.fit(X_train_scaled, np.ravel(y_train))\n",
    "    ypred = classifier.predict(X_cv_scaled)\n",
    "    accuracy = sklm.accuracy_score(y_cv, ypred)*100\n",
    "    \n",
    "    array.append([i, accuracy, classifier])\n",
    "    i += 0.01"
   ]
  },
  {
   "cell_type": "code",
   "execution_count": 21,
   "metadata": {},
   "outputs": [],
   "source": [
    "accuracy_array = []\n",
    "model_array = []\n",
    "\n",
    "for i in range(len(array)):\n",
    "    accuracy_array.append( array[i][1] )\n",
    "    model_array.append( array[i][2])"
   ]
  },
  {
   "cell_type": "markdown",
   "metadata": {},
   "source": [
    "## Save classifier to disk"
   ]
  },
  {
   "cell_type": "code",
   "execution_count": 25,
   "metadata": {},
   "outputs": [
    {
     "data": {
      "text/plain": [
       "['logreg.pkl']"
      ]
     },
     "execution_count": 25,
     "metadata": {},
     "output_type": "execute_result"
    }
   ],
   "source": [
    "classifier = model_array[accuracy_array.index( max(accuracy_array))]\n",
    "joblib_file = \"logreg.pkl\"  \n",
    "joblib.dump(classifier, joblib_file)"
   ]
  }
 ],
 "metadata": {
  "kernelspec": {
   "display_name": "Python 3",
   "language": "python",
   "name": "python3"
  },
  "language_info": {
   "codemirror_mode": {
    "name": "ipython",
    "version": 3
   },
   "file_extension": ".py",
   "mimetype": "text/x-python",
   "name": "python",
   "nbconvert_exporter": "python",
   "pygments_lexer": "ipython3",
   "version": "3.7.4"
  }
 },
 "nbformat": 4,
 "nbformat_minor": 2
}
